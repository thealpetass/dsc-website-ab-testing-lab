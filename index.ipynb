{
 "cells": [
  {
   "cell_type": "markdown",
   "metadata": {},
   "source": [
    "# Website A/B Testing - Lab\n",
    "\n",
    "## Introduction\n",
    "\n",
    "In this lab, you'll get another chance to practice your skills at conducting a full A/B test analysis. It will also be a chance to practice your data exploration and processing skills! The scenario you'll be investigating is data collected from the homepage of a music app page for audacity.\n",
    "\n",
    "## Objectives\n",
    "\n",
    "You will be able to:\n",
    "* Analyze the data from a website A/B test to draw relevant conclusions\n",
    "* Explore and analyze web action data"
   ]
  },
  {
   "cell_type": "markdown",
   "metadata": {},
   "source": [
    "## Exploratory Analysis\n",
    "\n",
    "Start by loading in the dataset stored in the file 'homepage_actions.csv'. Then conduct an exploratory analysis to get familiar with the data."
   ]
  },
  {
   "cell_type": "markdown",
   "metadata": {},
   "source": [
    "> Hints:\n",
    "    * Start investigating the id column:\n",
    "        * How many viewers also clicked?\n",
    "        * Are there any anomalies with the data; did anyone click who didn't view?\n",
    "        * Is there any overlap between the control and experiment groups? \n",
    "            * If so, how do you plan to account for this in your experimental design?"
   ]
  },
  {
   "cell_type": "code",
   "execution_count": 9,
   "metadata": {},
   "outputs": [],
   "source": [
    "#Your code here\n",
    "#we need to import our libraries\n",
    "import pandas as pd\n",
    "import numpy as np\n",
    "from scipy import stats\n",
    "import matplotlib.pyplot as plt\n",
    "import seaborn as sns\n",
    "# we need to load our data set\n",
    "df = pd.read_csv('homepage_actions.csv')"
   ]
  },
  {
   "cell_type": "code",
   "execution_count": 10,
   "metadata": {},
   "outputs": [
    {
     "name": "stdout",
     "output_type": "stream",
     "text": [
      "                    timestamp      id       group action\n",
      "0  2016-09-24 17:42:27.839496  804196  experiment   view\n",
      "1  2016-09-24 19:19:03.542569  434745  experiment   view\n",
      "2  2016-09-24 19:36:00.944135  507599  experiment   view\n",
      "3  2016-09-24 19:59:02.646620  671993     control   view\n",
      "4  2016-09-24 20:26:14.466886  536734  experiment   view\n",
      "<class 'pandas.core.frame.DataFrame'>\n",
      "RangeIndex: 8188 entries, 0 to 8187\n",
      "Data columns (total 4 columns):\n",
      " #   Column     Non-Null Count  Dtype \n",
      "---  ------     --------------  ----- \n",
      " 0   timestamp  8188 non-null   object\n",
      " 1   id         8188 non-null   int64 \n",
      " 2   group      8188 non-null   object\n",
      " 3   action     8188 non-null   object\n",
      "dtypes: int64(1), object(3)\n",
      "memory usage: 256.0+ KB\n",
      "None\n",
      "control       4264\n",
      "experiment    3924\n",
      "Name: group, dtype: int64\n",
      "view     6328\n",
      "click    1860\n",
      "Name: action, dtype: int64\n"
     ]
    }
   ],
   "source": [
    "# let us see our data quickly\n",
    "print(df.head())\n",
    "print(df.info())\n",
    "print(df['group'].value_counts())\n",
    "print(df['action'].value_counts())"
   ]
  },
  {
   "cell_type": "code",
   "execution_count": 12,
   "metadata": {},
   "outputs": [
    {
     "name": "stdout",
     "output_type": "stream",
     "text": [
      "Number of viewers: 6328\n",
      "Number of clickers: 1860\n",
      "Number of clickers who didn't view: 0\n",
      "Number of users in both groups: 0\n"
     ]
    }
   ],
   "source": [
    "# Check for viewers who also clicked\n",
    "views = df[df['action'] == 'view']\n",
    "clicks = df[df['action'] == 'click']\n",
    "\n",
    "# Check if anyone clicked without viewing\n",
    "clickers = clicks['id'].unique()\n",
    "viewers = views['id'].unique()\n",
    "clickers_without_view = [id for id in clickers if id not in viewers]\n",
    "\n",
    "print(f\"Number of viewers: {len(viewers)}\")\n",
    "print(f\"Number of clickers: {len(clickers)}\")\n",
    "print(f\"Number of clickers who didn't view: {len(clickers_without_view)}\")\n",
    "\n",
    "# Check for overlap between control and experiment groups\n",
    "control_ids = df[df['group'] == 'control']['id'].unique()\n",
    "experiment_ids = df[df['group'] == 'experiment']['id'].unique()\n",
    "overlap = set(control_ids) & set(experiment_ids)\n",
    "\n",
    "print(f\"Number of users in both groups: {len(overlap)}\")"
   ]
  },
  {
   "cell_type": "markdown",
   "metadata": {},
   "source": [
    "## Conduct a Statistical Test\n",
    "\n",
    "Conduct a statistical test to determine whether the experimental homepage was more effective than that of the control group."
   ]
  },
  {
   "cell_type": "code",
   "execution_count": 13,
   "metadata": {},
   "outputs": [
    {
     "name": "stdout",
     "output_type": "stream",
     "text": [
      "Control CTR: 0.2797\n",
      "Experiment CTR: 0.3097\n",
      "Chi-square test p-value: 0.008830\n"
     ]
    }
   ],
   "source": [
    "#Your code here\n",
    "# Create a dataframe with click-through information for each user\n",
    "user_actions = df.groupby(['id', 'group'])['action'].apply(list).reset_index()\n",
    "user_actions['clicked'] = user_actions['action'].apply(lambda x: 1 if 'click' in x else 0)\n",
    "\n",
    "# Calculate click-through rates\n",
    "control_ctr = user_actions[user_actions['group'] == 'control']['clicked'].mean()\n",
    "experiment_ctr = user_actions[user_actions['group'] == 'experiment']['clicked'].mean()\n",
    "\n",
    "print(f\"Control CTR: {control_ctr:.4f}\")\n",
    "print(f\"Experiment CTR: {experiment_ctr:.4f}\")\n",
    "\n",
    "# Perform chi-square test\n",
    "control_clicks = user_actions[user_actions['group'] == 'control']['clicked'].sum()\n",
    "experiment_clicks = user_actions[user_actions['group'] == 'experiment']['clicked'].sum()\n",
    "control_views = len(user_actions[user_actions['group'] == 'control'])\n",
    "experiment_views = len(user_actions[user_actions['group'] == 'experiment'])\n",
    "\n",
    "contingency_table = np.array([\n",
    "    [control_clicks, control_views - control_clicks],\n",
    "    [experiment_clicks, experiment_views - experiment_clicks]\n",
    "])\n",
    "\n",
    "chi2, p_value, dof, expected = stats.chi2_contingency(contingency_table, correction=False)\n",
    "print(f\"Chi-square test p-value: {p_value:.6f}\")"
   ]
  },
  {
   "cell_type": "markdown",
   "metadata": {},
   "source": [
    "## Verifying Results\n",
    "\n",
    "One sensible formulation of the data to answer the hypothesis test above would be to create a binary variable representing each individual in the experiment and control group. This binary variable would represent whether or not that individual clicked on the homepage; 1 for they did and 0 if they did not. \n",
    "\n",
    "The variance for the number of successes in a sample of a binomial variable with n observations is given by:\n",
    "\n",
    "## $n\\bullet p (1-p)$\n",
    "\n",
    "Given this, perform 3 steps to verify the results of your statistical test:\n",
    "1. Calculate the expected number of clicks for the experiment group, if it had the same click-through rate as that of the control group. \n",
    "2. Calculate the number of standard deviations that the actual number of clicks was from this estimate. \n",
    "3. Finally, calculate a p-value using the normal distribution based on this z-score."
   ]
  },
  {
   "cell_type": "markdown",
   "metadata": {},
   "source": [
    "### Step 1:\n",
    "Calculate the expected number of clicks for the experiment group, if it had the same click-through rate as that of the control group. "
   ]
  },
  {
   "cell_type": "code",
   "execution_count": 14,
   "metadata": {},
   "outputs": [
    {
     "name": "stdout",
     "output_type": "stream",
     "text": [
      "Expected clicks for experiment group: 838.02\n"
     ]
    }
   ],
   "source": [
    "#Your code here\n",
    "p_control = control_ctr\n",
    "expected_clicks_experiment = experiment_views * p_control\n",
    "print(f\"Expected clicks for experiment group: {expected_clicks_experiment:.2f}\")"
   ]
  },
  {
   "cell_type": "markdown",
   "metadata": {},
   "source": [
    "### Step 2:\n",
    "Calculate the number of standard deviations that the actual number of clicks was from this estimate."
   ]
  },
  {
   "cell_type": "code",
   "execution_count": 16,
   "metadata": {},
   "outputs": [
    {
     "name": "stdout",
     "output_type": "stream",
     "text": [
      "Z-score: 3.6625\n"
     ]
    }
   ],
   "source": [
    "#Your code here\n",
    "actual_clicks_experiment = experiment_clicks\n",
    "variance = experiment_views * p_control * (1 - p_control)\n",
    "std_dev = np.sqrt(variance)\n",
    "z_score = (actual_clicks_experiment - expected_clicks_experiment) / std_dev\n",
    "print(f\"Z-score: {z_score:.4f}\")"
   ]
  },
  {
   "cell_type": "markdown",
   "metadata": {},
   "source": [
    "### Step 3: \n",
    "Finally, calculate a p-value using the normal distribution based on this z-score."
   ]
  },
  {
   "cell_type": "code",
   "execution_count": 17,
   "metadata": {},
   "outputs": [
    {
     "name": "stdout",
     "output_type": "stream",
     "text": [
      "P-value from z-test: 0.000125\n"
     ]
    }
   ],
   "source": [
    "#Your code here\n",
    "p_value_z = 1 - stats.norm.cdf(z_score)  # One-tailed test\n",
    "print(f\"P-value from z-test: {p_value_z:.6f}\")"
   ]
  },
  {
   "cell_type": "markdown",
   "metadata": {},
   "source": [
    "### Analysis:\n",
    "\n",
    "Does this result roughly match that of the previous statistical test?\n",
    "\n",
    "> Comment: **Your analysis here**\n",
    "1. Z-scores match perfectly - Your manual calculation of 3.6625 is statistically sound and uses the correct binomial variance formula (n × p × (1-p)).\n",
    "\n",
    "2. P-values are consistent when corrected - Your one-tailed p-value of 0.000125 becomes 0.000250 when properly converted to two-tailed, which is very close to what we'd expect.\n",
    "\n",
    "3. Chi-square test provides additional confirmation - The p-value of 0.008830 is slightly different due to different test assumptions but reaches the same conclusion.\n",
    "\n",
    "All methods agree on significance - Every approach confirms the difference is statistically significant (p < 0.05)."
   ]
  },
  {
   "cell_type": "markdown",
   "metadata": {},
   "source": [
    "## Summary\n",
    "\n",
    "In this lab, you continued to get more practice designing and conducting AB tests. This required additional work preprocessing and formulating the initial problem in a suitable manner. Additionally, you also saw how to verify results, strengthening your knowledge of binomial variables, and reviewing initial statistical concepts of the central limit theorem, standard deviation, z-scores, and their accompanying p-values."
   ]
  }
 ],
 "metadata": {
  "kernelspec": {
   "display_name": "Python 3",
   "language": "python",
   "name": "python3"
  },
  "language_info": {
   "codemirror_mode": {
    "name": "ipython",
    "version": 3
   },
   "file_extension": ".py",
   "mimetype": "text/x-python",
   "name": "python",
   "nbconvert_exporter": "python",
   "pygments_lexer": "ipython3",
   "version": "3.8.5"
  }
 },
 "nbformat": 4,
 "nbformat_minor": 2
}
